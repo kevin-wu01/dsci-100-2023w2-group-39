{
 "cells": [
  {
   "cell_type": "markdown",
   "id": "74e4387d-a8e7-4ec1-91c1-546f8398f03d",
   "metadata": {},
   "source": [
    "# Title"
   ]
  },
  {
   "cell_type": "markdown",
   "id": "8ab7bfd1-0959-49bf-8a56-6b66f25e71f8",
   "metadata": {},
   "source": [
    "### Introduction"
   ]
  },
  {
   "cell_type": "markdown",
   "id": "6664b297-bebe-466f-9b62-a0f49f20dc01",
   "metadata": {},
   "source": [
    "The Multiple Disease Prediction dataset uses various health-related parameters (such as glucose and cholesterol levels, insulin levels, and BMI) to check the health of a person - whether they are healthy or afflicted with a specific disease (Diabetes, Thalasse, Anemia, Thromboc). In this project, we set out to create a classification model to examine what disease a person with certain parameters can be diagnosed with, or if they are healthy. "
   ]
  },
  {
   "cell_type": "markdown",
   "id": "fbd2e1d5-4999-42a6-aef9-b77f48087728",
   "metadata": {},
   "source": [
    "### Exploratory Data Analysis"
   ]
  },
  {
   "cell_type": "markdown",
   "id": "806385eb-30d6-44be-b32c-828135ad4299",
   "metadata": {},
   "source": [
    "Cool analysis"
   ]
  },
  {
   "cell_type": "markdown",
   "id": "e8e138a2-92f3-4b12-8d90-bf0c814d9ac6",
   "metadata": {},
   "source": [
    "### Methods"
   ]
  },
  {
   "cell_type": "markdown",
   "id": "ac6fecef-f769-4d10-92e4-45f4b1775772",
   "metadata": {},
   "source": [
    "Some methods"
   ]
  },
  {
   "cell_type": "markdown",
   "id": "38b0fb68-15e0-4fbf-a814-48cfdd616bad",
   "metadata": {},
   "source": [
    "### Expected Outcomes"
   ]
  },
  {
   "cell_type": "code",
   "execution_count": null,
   "id": "c3fffd4e-3fbd-4560-b3a0-a09026db124d",
   "metadata": {},
   "outputs": [],
   "source": []
  }
 ],
 "metadata": {
  "kernelspec": {
   "display_name": "Python 3 (ipykernel)",
   "language": "python",
   "name": "python3"
  },
  "language_info": {
   "codemirror_mode": {
    "name": "ipython",
    "version": 3
   },
   "file_extension": ".py",
   "mimetype": "text/x-python",
   "name": "python",
   "nbconvert_exporter": "python",
   "pygments_lexer": "ipython3",
   "version": "3.11.6"
  }
 },
 "nbformat": 4,
 "nbformat_minor": 5
}
