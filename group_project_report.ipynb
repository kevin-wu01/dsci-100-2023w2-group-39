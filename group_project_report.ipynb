{
 "cells": [
  {
   "cell_type": "markdown",
   "id": "817c9ff8",
   "metadata": {},
   "source": [
    "# DSCI 100 Group Project: Predicting Disease Diagnoses"
   ]
  },
  {
   "cell_type": "markdown",
   "id": "2d94ddd4",
   "metadata": {},
   "source": [
    "## Introduction"
   ]
  },
  {
   "cell_type": "markdown",
   "id": "a55dea33",
   "metadata": {},
   "source": [
    "The Multiple Disease Prediction dataset uses various health-related parameters (such as glucose and cholesterol levels, insulin levels, and BMI) to check the health of a person - whether they are healthy or afflicted with a specific disease (Diabetes, Thalasse, Anemia, or Thromboc). In this project, we set out to create a classification model to examine to what accuracy we can predict the disease a person with certain parameters can be diagnosed with."
   ]
  },
  {
   "cell_type": "markdown",
   "id": "fb48407f",
   "metadata": {},
   "source": [
    "## Exploratory Data Analysis"
   ]
  },
  {
   "cell_type": "markdown",
   "id": "f6979ed1-becd-4056-ad61-30bfc3bef7ee",
   "metadata": {},
   "source": [
    "### Loading libraries"
   ]
  },
  {
   "cell_type": "code",
   "execution_count": 1,
   "id": "b6221c61",
   "metadata": {},
   "outputs": [
    {
     "name": "stderr",
     "output_type": "stream",
     "text": [
      "Warning message:\n",
      "“package ‘ggplot2’ was built under R version 4.3.2”\n",
      "── \u001b[1mAttaching core tidyverse packages\u001b[22m ──────────────────────── tidyverse 2.0.0 ──\n",
      "\u001b[32m✔\u001b[39m \u001b[34mdplyr    \u001b[39m 1.1.3     \u001b[32m✔\u001b[39m \u001b[34mreadr    \u001b[39m 2.1.5\n",
      "\u001b[32m✔\u001b[39m \u001b[34mforcats  \u001b[39m 1.0.0     \u001b[32m✔\u001b[39m \u001b[34mstringr  \u001b[39m 1.5.0\n",
      "\u001b[32m✔\u001b[39m \u001b[34mggplot2  \u001b[39m 3.5.0     \u001b[32m✔\u001b[39m \u001b[34mtibble   \u001b[39m 3.2.1\n",
      "\u001b[32m✔\u001b[39m \u001b[34mlubridate\u001b[39m 1.9.2     \u001b[32m✔\u001b[39m \u001b[34mtidyr    \u001b[39m 1.3.0\n",
      "\u001b[32m✔\u001b[39m \u001b[34mpurrr    \u001b[39m 1.0.2     \n",
      "── \u001b[1mConflicts\u001b[22m ────────────────────────────────────────── tidyverse_conflicts() ──\n",
      "\u001b[31m✖\u001b[39m \u001b[34mdplyr\u001b[39m::\u001b[32mfilter()\u001b[39m masks \u001b[34mstats\u001b[39m::filter()\n",
      "\u001b[31m✖\u001b[39m \u001b[34mdplyr\u001b[39m::\u001b[32mlag()\u001b[39m    masks \u001b[34mstats\u001b[39m::lag()\n",
      "\u001b[36mℹ\u001b[39m Use the conflicted package (\u001b[3m\u001b[34m<http://conflicted.r-lib.org/>\u001b[39m\u001b[23m) to force all conflicts to become errors\n",
      "── \u001b[1mAttaching packages\u001b[22m ────────────────────────────────────── tidymodels 1.1.1 ──\n",
      "\n",
      "\u001b[32m✔\u001b[39m \u001b[34mbroom       \u001b[39m 1.0.5     \u001b[32m✔\u001b[39m \u001b[34mrsample     \u001b[39m 1.2.0\n",
      "\u001b[32m✔\u001b[39m \u001b[34mdials       \u001b[39m 1.2.0     \u001b[32m✔\u001b[39m \u001b[34mtune        \u001b[39m 1.1.2\n",
      "\u001b[32m✔\u001b[39m \u001b[34minfer       \u001b[39m 1.0.5     \u001b[32m✔\u001b[39m \u001b[34mworkflows   \u001b[39m 1.1.3\n",
      "\u001b[32m✔\u001b[39m \u001b[34mmodeldata   \u001b[39m 1.2.0     \u001b[32m✔\u001b[39m \u001b[34mworkflowsets\u001b[39m 1.0.1\n",
      "\u001b[32m✔\u001b[39m \u001b[34mparsnip     \u001b[39m 1.1.1     \u001b[32m✔\u001b[39m \u001b[34myardstick   \u001b[39m 1.2.0\n",
      "\u001b[32m✔\u001b[39m \u001b[34mrecipes     \u001b[39m 1.0.8     \n",
      "\n",
      "── \u001b[1mConflicts\u001b[22m ───────────────────────────────────────── tidymodels_conflicts() ──\n",
      "\u001b[31m✖\u001b[39m \u001b[34mscales\u001b[39m::\u001b[32mdiscard()\u001b[39m masks \u001b[34mpurrr\u001b[39m::discard()\n",
      "\u001b[31m✖\u001b[39m \u001b[34mdplyr\u001b[39m::\u001b[32mfilter()\u001b[39m   masks \u001b[34mstats\u001b[39m::filter()\n",
      "\u001b[31m✖\u001b[39m \u001b[34mrecipes\u001b[39m::\u001b[32mfixed()\u001b[39m  masks \u001b[34mstringr\u001b[39m::fixed()\n",
      "\u001b[31m✖\u001b[39m \u001b[34mdplyr\u001b[39m::\u001b[32mlag()\u001b[39m      masks \u001b[34mstats\u001b[39m::lag()\n",
      "\u001b[31m✖\u001b[39m \u001b[34myardstick\u001b[39m::\u001b[32mspec()\u001b[39m masks \u001b[34mreadr\u001b[39m::spec()\n",
      "\u001b[31m✖\u001b[39m \u001b[34mrecipes\u001b[39m::\u001b[32mstep()\u001b[39m   masks \u001b[34mstats\u001b[39m::step()\n",
      "\u001b[34m•\u001b[39m Search for functions across packages at \u001b[32mhttps://www.tidymodels.org/find/\u001b[39m\n",
      "\n",
      "\n",
      "Attaching package: ‘janitor’\n",
      "\n",
      "\n",
      "The following objects are masked from ‘package:stats’:\n",
      "\n",
      "    chisq.test, fisher.test\n",
      "\n",
      "\n"
     ]
    }
   ],
   "source": [
    "### Run this cell before continuing. \n",
    "library(tidyverse)\n",
    "library(repr)\n",
    "library(tidymodels)\n",
    "library(janitor)\n",
    "library(themis)\n"
   ]
  },
  {
   "cell_type": "markdown",
   "id": "07251362-4587-4546-96bd-6028e1bb02d0",
   "metadata": {},
   "source": [
    "### Loading the data"
   ]
  },
  {
   "cell_type": "code",
   "execution_count": 2,
   "id": "e20512de",
   "metadata": {},
   "outputs": [
    {
     "name": "stderr",
     "output_type": "stream",
     "text": [
      "\u001b[1mRows: \u001b[22m\u001b[34m486\u001b[39m \u001b[1mColumns: \u001b[22m\u001b[34m25\u001b[39m\n",
      "\u001b[36m──\u001b[39m \u001b[1mColumn specification\u001b[22m \u001b[36m────────────────────────────────────────────────────────\u001b[39m\n",
      "\u001b[1mDelimiter:\u001b[22m \",\"\n",
      "\u001b[31mchr\u001b[39m  (1): Disease\n",
      "\u001b[32mdbl\u001b[39m (24): Glucose, Cholesterol, Hemoglobin, Platelets, White Blood Cells, Re...\n",
      "\n",
      "\u001b[36mℹ\u001b[39m Use `spec()` to retrieve the full column specification for this data.\n",
      "\u001b[36mℹ\u001b[39m Specify the column types or set `show_col_types = FALSE` to quiet this message.\n"
     ]
    },
    {
     "data": {
      "text/html": [
       "<table class=\"dataframe\">\n",
       "<caption>A tibble: 6 × 25</caption>\n",
       "<thead>\n",
       "\t<tr><th scope=col>Glucose</th><th scope=col>Cholesterol</th><th scope=col>Hemoglobin</th><th scope=col>Platelets</th><th scope=col>White Blood Cells</th><th scope=col>Red Blood Cells</th><th scope=col>Hematocrit</th><th scope=col>Mean Corpuscular Volume</th><th scope=col>Mean Corpuscular Hemoglobin</th><th scope=col>Mean Corpuscular Hemoglobin Concentration</th><th scope=col>⋯</th><th scope=col>HbA1c</th><th scope=col>LDL Cholesterol</th><th scope=col>HDL Cholesterol</th><th scope=col>ALT</th><th scope=col>AST</th><th scope=col>Heart Rate</th><th scope=col>Creatinine</th><th scope=col>Troponin</th><th scope=col>C-reactive Protein</th><th scope=col>Disease</th></tr>\n",
       "\t<tr><th scope=col>&lt;dbl&gt;</th><th scope=col>&lt;dbl&gt;</th><th scope=col>&lt;dbl&gt;</th><th scope=col>&lt;dbl&gt;</th><th scope=col>&lt;dbl&gt;</th><th scope=col>&lt;dbl&gt;</th><th scope=col>&lt;dbl&gt;</th><th scope=col>&lt;dbl&gt;</th><th scope=col>&lt;dbl&gt;</th><th scope=col>&lt;dbl&gt;</th><th scope=col>⋯</th><th scope=col>&lt;dbl&gt;</th><th scope=col>&lt;dbl&gt;</th><th scope=col>&lt;dbl&gt;</th><th scope=col>&lt;dbl&gt;</th><th scope=col>&lt;dbl&gt;</th><th scope=col>&lt;dbl&gt;</th><th scope=col>&lt;dbl&gt;</th><th scope=col>&lt;dbl&gt;</th><th scope=col>&lt;dbl&gt;</th><th scope=col>&lt;chr&gt;</th></tr>\n",
       "</thead>\n",
       "<tbody>\n",
       "\t<tr><td>0.001827491</td><td>0.03369271</td><td>0.11475525</td><td>0.9979266</td><td>0.56260425</td><td>0.86649852</td><td>0.57804177</td><td>0.91461549</td><td>0.02686409</td><td>0.03864091</td><td>⋯</td><td>0.6532299</td><td>0.1861045</td><td>0.4303978</td><td>0.01667792</td><td>0.8853520</td><td>0.6527334</td><td>0.78823514</td><td>0.05478811</td><td>0.03131344</td><td>Thalasse</td></tr>\n",
       "\t<tr><td>0.436679025</td><td>0.97265269</td><td>0.08499819</td><td>0.1809086</td><td>0.67573568</td><td>0.56388877</td><td>0.79838214</td><td>0.67036126</td><td>0.37609238</td><td>0.18489008</td><td>⋯</td><td>0.8335397</td><td>0.1530008</td><td>0.4585328</td><td>0.40184452</td><td>0.6359693</td><td>0.5744248</td><td>0.04702496</td><td>0.60798545</td><td>0.59412308</td><td>Diabetes</td></tr>\n",
       "\t<tr><td>0.545697158</td><td>0.32481486</td><td>0.58446699</td><td>0.4757480</td><td>0.55859609</td><td>0.66100693</td><td>0.93405588</td><td>0.38178237</td><td>0.50034229</td><td>0.53182931</td><td>⋯</td><td>0.6789008</td><td>0.2204789</td><td>0.8171514</td><td>0.69098100</td><td>0.1016329</td><td>0.8557403</td><td>0.55112419</td><td>0.41329445</td><td>0.07090907</td><td>Heart Di</td></tr>\n",
       "\t<tr><td>0.172994018</td><td>0.05035101</td><td>0.73599966</td><td>0.7820224</td><td>0.06943548</td><td>0.08521937</td><td>0.03290692</td><td>0.46061943</td><td>0.78544795</td><td>0.49149522</td><td>⋯</td><td>0.3815002</td><td>0.4593956</td><td>0.4201545</td><td>0.79853707</td><td>0.3992360</td><td>0.3245997</td><td>0.49950360</td><td>0.43666181</td><td>0.24276586</td><td>Diabetes</td></tr>\n",
       "\t<tr><td>0.758534051</td><td>0.73996775</td><td>0.59786776</td><td>0.7726835</td><td>0.87571974</td><td>0.86026493</td><td>0.48618863</td><td>0.48668607</td><td>0.62104804</td><td>0.19175598</td><td>⋯</td><td>0.9933815</td><td>0.2723384</td><td>0.6635788</td><td>0.26522715</td><td>0.9188472</td><td>0.8049102</td><td>0.57111909</td><td>0.18836767</td><td>0.75084752</td><td>Heart Di</td></tr>\n",
       "\t<tr><td>0.321872226</td><td>0.55464909</td><td>0.19565226</td><td>0.4272160</td><td>0.80775117</td><td>0.37696424</td><td>0.51952589</td><td>0.02808989</td><td>0.38253820</td><td>0.56820531</td><td>⋯</td><td>0.7113771</td><td>0.8878635</td><td>0.3703437</td><td>0.60706574</td><td>0.9364447</td><td>0.1603547</td><td>0.10899414</td><td>0.59907098</td><td>0.56053500</td><td>Heart Di</td></tr>\n",
       "</tbody>\n",
       "</table>\n"
      ],
      "text/latex": [
       "A tibble: 6 × 25\n",
       "\\begin{tabular}{lllllllllllllllllllll}\n",
       " Glucose & Cholesterol & Hemoglobin & Platelets & White Blood Cells & Red Blood Cells & Hematocrit & Mean Corpuscular Volume & Mean Corpuscular Hemoglobin & Mean Corpuscular Hemoglobin Concentration & ⋯ & HbA1c & LDL Cholesterol & HDL Cholesterol & ALT & AST & Heart Rate & Creatinine & Troponin & C-reactive Protein & Disease\\\\\n",
       " <dbl> & <dbl> & <dbl> & <dbl> & <dbl> & <dbl> & <dbl> & <dbl> & <dbl> & <dbl> & ⋯ & <dbl> & <dbl> & <dbl> & <dbl> & <dbl> & <dbl> & <dbl> & <dbl> & <dbl> & <chr>\\\\\n",
       "\\hline\n",
       "\t 0.001827491 & 0.03369271 & 0.11475525 & 0.9979266 & 0.56260425 & 0.86649852 & 0.57804177 & 0.91461549 & 0.02686409 & 0.03864091 & ⋯ & 0.6532299 & 0.1861045 & 0.4303978 & 0.01667792 & 0.8853520 & 0.6527334 & 0.78823514 & 0.05478811 & 0.03131344 & Thalasse\\\\\n",
       "\t 0.436679025 & 0.97265269 & 0.08499819 & 0.1809086 & 0.67573568 & 0.56388877 & 0.79838214 & 0.67036126 & 0.37609238 & 0.18489008 & ⋯ & 0.8335397 & 0.1530008 & 0.4585328 & 0.40184452 & 0.6359693 & 0.5744248 & 0.04702496 & 0.60798545 & 0.59412308 & Diabetes\\\\\n",
       "\t 0.545697158 & 0.32481486 & 0.58446699 & 0.4757480 & 0.55859609 & 0.66100693 & 0.93405588 & 0.38178237 & 0.50034229 & 0.53182931 & ⋯ & 0.6789008 & 0.2204789 & 0.8171514 & 0.69098100 & 0.1016329 & 0.8557403 & 0.55112419 & 0.41329445 & 0.07090907 & Heart Di\\\\\n",
       "\t 0.172994018 & 0.05035101 & 0.73599966 & 0.7820224 & 0.06943548 & 0.08521937 & 0.03290692 & 0.46061943 & 0.78544795 & 0.49149522 & ⋯ & 0.3815002 & 0.4593956 & 0.4201545 & 0.79853707 & 0.3992360 & 0.3245997 & 0.49950360 & 0.43666181 & 0.24276586 & Diabetes\\\\\n",
       "\t 0.758534051 & 0.73996775 & 0.59786776 & 0.7726835 & 0.87571974 & 0.86026493 & 0.48618863 & 0.48668607 & 0.62104804 & 0.19175598 & ⋯ & 0.9933815 & 0.2723384 & 0.6635788 & 0.26522715 & 0.9188472 & 0.8049102 & 0.57111909 & 0.18836767 & 0.75084752 & Heart Di\\\\\n",
       "\t 0.321872226 & 0.55464909 & 0.19565226 & 0.4272160 & 0.80775117 & 0.37696424 & 0.51952589 & 0.02808989 & 0.38253820 & 0.56820531 & ⋯ & 0.7113771 & 0.8878635 & 0.3703437 & 0.60706574 & 0.9364447 & 0.1603547 & 0.10899414 & 0.59907098 & 0.56053500 & Heart Di\\\\\n",
       "\\end{tabular}\n"
      ],
      "text/markdown": [
       "\n",
       "A tibble: 6 × 25\n",
       "\n",
       "| Glucose &lt;dbl&gt; | Cholesterol &lt;dbl&gt; | Hemoglobin &lt;dbl&gt; | Platelets &lt;dbl&gt; | White Blood Cells &lt;dbl&gt; | Red Blood Cells &lt;dbl&gt; | Hematocrit &lt;dbl&gt; | Mean Corpuscular Volume &lt;dbl&gt; | Mean Corpuscular Hemoglobin &lt;dbl&gt; | Mean Corpuscular Hemoglobin Concentration &lt;dbl&gt; | ⋯ ⋯ | HbA1c &lt;dbl&gt; | LDL Cholesterol &lt;dbl&gt; | HDL Cholesterol &lt;dbl&gt; | ALT &lt;dbl&gt; | AST &lt;dbl&gt; | Heart Rate &lt;dbl&gt; | Creatinine &lt;dbl&gt; | Troponin &lt;dbl&gt; | C-reactive Protein &lt;dbl&gt; | Disease &lt;chr&gt; |\n",
       "|---|---|---|---|---|---|---|---|---|---|---|---|---|---|---|---|---|---|---|---|---|\n",
       "| 0.001827491 | 0.03369271 | 0.11475525 | 0.9979266 | 0.56260425 | 0.86649852 | 0.57804177 | 0.91461549 | 0.02686409 | 0.03864091 | ⋯ | 0.6532299 | 0.1861045 | 0.4303978 | 0.01667792 | 0.8853520 | 0.6527334 | 0.78823514 | 0.05478811 | 0.03131344 | Thalasse |\n",
       "| 0.436679025 | 0.97265269 | 0.08499819 | 0.1809086 | 0.67573568 | 0.56388877 | 0.79838214 | 0.67036126 | 0.37609238 | 0.18489008 | ⋯ | 0.8335397 | 0.1530008 | 0.4585328 | 0.40184452 | 0.6359693 | 0.5744248 | 0.04702496 | 0.60798545 | 0.59412308 | Diabetes |\n",
       "| 0.545697158 | 0.32481486 | 0.58446699 | 0.4757480 | 0.55859609 | 0.66100693 | 0.93405588 | 0.38178237 | 0.50034229 | 0.53182931 | ⋯ | 0.6789008 | 0.2204789 | 0.8171514 | 0.69098100 | 0.1016329 | 0.8557403 | 0.55112419 | 0.41329445 | 0.07090907 | Heart Di |\n",
       "| 0.172994018 | 0.05035101 | 0.73599966 | 0.7820224 | 0.06943548 | 0.08521937 | 0.03290692 | 0.46061943 | 0.78544795 | 0.49149522 | ⋯ | 0.3815002 | 0.4593956 | 0.4201545 | 0.79853707 | 0.3992360 | 0.3245997 | 0.49950360 | 0.43666181 | 0.24276586 | Diabetes |\n",
       "| 0.758534051 | 0.73996775 | 0.59786776 | 0.7726835 | 0.87571974 | 0.86026493 | 0.48618863 | 0.48668607 | 0.62104804 | 0.19175598 | ⋯ | 0.9933815 | 0.2723384 | 0.6635788 | 0.26522715 | 0.9188472 | 0.8049102 | 0.57111909 | 0.18836767 | 0.75084752 | Heart Di |\n",
       "| 0.321872226 | 0.55464909 | 0.19565226 | 0.4272160 | 0.80775117 | 0.37696424 | 0.51952589 | 0.02808989 | 0.38253820 | 0.56820531 | ⋯ | 0.7113771 | 0.8878635 | 0.3703437 | 0.60706574 | 0.9364447 | 0.1603547 | 0.10899414 | 0.59907098 | 0.56053500 | Heart Di |\n",
       "\n"
      ],
      "text/plain": [
       "  Glucose     Cholesterol Hemoglobin Platelets White Blood Cells\n",
       "1 0.001827491 0.03369271  0.11475525 0.9979266 0.56260425       \n",
       "2 0.436679025 0.97265269  0.08499819 0.1809086 0.67573568       \n",
       "3 0.545697158 0.32481486  0.58446699 0.4757480 0.55859609       \n",
       "4 0.172994018 0.05035101  0.73599966 0.7820224 0.06943548       \n",
       "5 0.758534051 0.73996775  0.59786776 0.7726835 0.87571974       \n",
       "6 0.321872226 0.55464909  0.19565226 0.4272160 0.80775117       \n",
       "  Red Blood Cells Hematocrit Mean Corpuscular Volume\n",
       "1 0.86649852      0.57804177 0.91461549             \n",
       "2 0.56388877      0.79838214 0.67036126             \n",
       "3 0.66100693      0.93405588 0.38178237             \n",
       "4 0.08521937      0.03290692 0.46061943             \n",
       "5 0.86026493      0.48618863 0.48668607             \n",
       "6 0.37696424      0.51952589 0.02808989             \n",
       "  Mean Corpuscular Hemoglobin Mean Corpuscular Hemoglobin Concentration ⋯\n",
       "1 0.02686409                  0.03864091                                ⋯\n",
       "2 0.37609238                  0.18489008                                ⋯\n",
       "3 0.50034229                  0.53182931                                ⋯\n",
       "4 0.78544795                  0.49149522                                ⋯\n",
       "5 0.62104804                  0.19175598                                ⋯\n",
       "6 0.38253820                  0.56820531                                ⋯\n",
       "  HbA1c     LDL Cholesterol HDL Cholesterol ALT        AST       Heart Rate\n",
       "1 0.6532299 0.1861045       0.4303978       0.01667792 0.8853520 0.6527334 \n",
       "2 0.8335397 0.1530008       0.4585328       0.40184452 0.6359693 0.5744248 \n",
       "3 0.6789008 0.2204789       0.8171514       0.69098100 0.1016329 0.8557403 \n",
       "4 0.3815002 0.4593956       0.4201545       0.79853707 0.3992360 0.3245997 \n",
       "5 0.9933815 0.2723384       0.6635788       0.26522715 0.9188472 0.8049102 \n",
       "6 0.7113771 0.8878635       0.3703437       0.60706574 0.9364447 0.1603547 \n",
       "  Creatinine Troponin   C-reactive Protein Disease \n",
       "1 0.78823514 0.05478811 0.03131344         Thalasse\n",
       "2 0.04702496 0.60798545 0.59412308         Diabetes\n",
       "3 0.55112419 0.41329445 0.07090907         Heart Di\n",
       "4 0.49950360 0.43666181 0.24276586         Diabetes\n",
       "5 0.57111909 0.18836767 0.75084752         Heart Di\n",
       "6 0.10899414 0.59907098 0.56053500         Heart Di"
      ]
     },
     "metadata": {},
     "output_type": "display_data"
    }
   ],
   "source": [
    "blood_samples <- read_csv(\"data/blood_samples_dataset.csv\")\n",
    "head(blood_samples)"
   ]
  },
  {
   "cell_type": "markdown",
   "id": "63d72cf5-7bcb-4a6c-a502-1beb414532d3",
   "metadata": {},
   "source": [
    "The dataset is already in tidy format where each column is a variable, each row is a single observation, and each cell is a value.\n",
    "All values in the dataset also have already been centered and scaled to a standard number from 0 to 1. \n",
    "\n",
    "The column names are not in the correct format as there are capital leters and spaces. The `Disease` column is also of type character when it should be factor type as there are distinct classes.\n",
    "\n",
    "We will use clean_names and mutate the `Disease` column to be a factor"
   ]
  },
  {
   "cell_type": "code",
   "execution_count": 3,
   "id": "fe0aa9e4-c52c-4633-9893-f1ce007f19a3",
   "metadata": {},
   "outputs": [
    {
     "data": {
      "text/html": [
       "<table class=\"dataframe\">\n",
       "<caption>A tibble: 6 × 25</caption>\n",
       "<thead>\n",
       "\t<tr><th scope=col>glucose</th><th scope=col>cholesterol</th><th scope=col>hemoglobin</th><th scope=col>platelets</th><th scope=col>white_blood_cells</th><th scope=col>red_blood_cells</th><th scope=col>hematocrit</th><th scope=col>mean_corpuscular_volume</th><th scope=col>mean_corpuscular_hemoglobin</th><th scope=col>mean_corpuscular_hemoglobin_concentration</th><th scope=col>⋯</th><th scope=col>hb_a1c</th><th scope=col>ldl_cholesterol</th><th scope=col>hdl_cholesterol</th><th scope=col>alt</th><th scope=col>ast</th><th scope=col>heart_rate</th><th scope=col>creatinine</th><th scope=col>troponin</th><th scope=col>c_reactive_protein</th><th scope=col>disease</th></tr>\n",
       "\t<tr><th scope=col>&lt;dbl&gt;</th><th scope=col>&lt;dbl&gt;</th><th scope=col>&lt;dbl&gt;</th><th scope=col>&lt;dbl&gt;</th><th scope=col>&lt;dbl&gt;</th><th scope=col>&lt;dbl&gt;</th><th scope=col>&lt;dbl&gt;</th><th scope=col>&lt;dbl&gt;</th><th scope=col>&lt;dbl&gt;</th><th scope=col>&lt;dbl&gt;</th><th scope=col>⋯</th><th scope=col>&lt;dbl&gt;</th><th scope=col>&lt;dbl&gt;</th><th scope=col>&lt;dbl&gt;</th><th scope=col>&lt;dbl&gt;</th><th scope=col>&lt;dbl&gt;</th><th scope=col>&lt;dbl&gt;</th><th scope=col>&lt;dbl&gt;</th><th scope=col>&lt;dbl&gt;</th><th scope=col>&lt;dbl&gt;</th><th scope=col>&lt;fct&gt;</th></tr>\n",
       "</thead>\n",
       "<tbody>\n",
       "\t<tr><td>0.001827491</td><td>0.03369271</td><td>0.11475525</td><td>0.9979266</td><td>0.56260425</td><td>0.86649852</td><td>0.57804177</td><td>0.91461549</td><td>0.02686409</td><td>0.03864091</td><td>⋯</td><td>0.6532299</td><td>0.1861045</td><td>0.4303978</td><td>0.01667792</td><td>0.8853520</td><td>0.6527334</td><td>0.78823514</td><td>0.05478811</td><td>0.03131344</td><td>Thalasse</td></tr>\n",
       "\t<tr><td>0.436679025</td><td>0.97265269</td><td>0.08499819</td><td>0.1809086</td><td>0.67573568</td><td>0.56388877</td><td>0.79838214</td><td>0.67036126</td><td>0.37609238</td><td>0.18489008</td><td>⋯</td><td>0.8335397</td><td>0.1530008</td><td>0.4585328</td><td>0.40184452</td><td>0.6359693</td><td>0.5744248</td><td>0.04702496</td><td>0.60798545</td><td>0.59412308</td><td>Diabetes</td></tr>\n",
       "\t<tr><td>0.545697158</td><td>0.32481486</td><td>0.58446699</td><td>0.4757480</td><td>0.55859609</td><td>0.66100693</td><td>0.93405588</td><td>0.38178237</td><td>0.50034229</td><td>0.53182931</td><td>⋯</td><td>0.6789008</td><td>0.2204789</td><td>0.8171514</td><td>0.69098100</td><td>0.1016329</td><td>0.8557403</td><td>0.55112419</td><td>0.41329445</td><td>0.07090907</td><td>Heart Di</td></tr>\n",
       "\t<tr><td>0.172994018</td><td>0.05035101</td><td>0.73599966</td><td>0.7820224</td><td>0.06943548</td><td>0.08521937</td><td>0.03290692</td><td>0.46061943</td><td>0.78544795</td><td>0.49149522</td><td>⋯</td><td>0.3815002</td><td>0.4593956</td><td>0.4201545</td><td>0.79853707</td><td>0.3992360</td><td>0.3245997</td><td>0.49950360</td><td>0.43666181</td><td>0.24276586</td><td>Diabetes</td></tr>\n",
       "\t<tr><td>0.758534051</td><td>0.73996775</td><td>0.59786776</td><td>0.7726835</td><td>0.87571974</td><td>0.86026493</td><td>0.48618863</td><td>0.48668607</td><td>0.62104804</td><td>0.19175598</td><td>⋯</td><td>0.9933815</td><td>0.2723384</td><td>0.6635788</td><td>0.26522715</td><td>0.9188472</td><td>0.8049102</td><td>0.57111909</td><td>0.18836767</td><td>0.75084752</td><td>Heart Di</td></tr>\n",
       "\t<tr><td>0.321872226</td><td>0.55464909</td><td>0.19565226</td><td>0.4272160</td><td>0.80775117</td><td>0.37696424</td><td>0.51952589</td><td>0.02808989</td><td>0.38253820</td><td>0.56820531</td><td>⋯</td><td>0.7113771</td><td>0.8878635</td><td>0.3703437</td><td>0.60706574</td><td>0.9364447</td><td>0.1603547</td><td>0.10899414</td><td>0.59907098</td><td>0.56053500</td><td>Heart Di</td></tr>\n",
       "</tbody>\n",
       "</table>\n"
      ],
      "text/latex": [
       "A tibble: 6 × 25\n",
       "\\begin{tabular}{lllllllllllllllllllll}\n",
       " glucose & cholesterol & hemoglobin & platelets & white\\_blood\\_cells & red\\_blood\\_cells & hematocrit & mean\\_corpuscular\\_volume & mean\\_corpuscular\\_hemoglobin & mean\\_corpuscular\\_hemoglobin\\_concentration & ⋯ & hb\\_a1c & ldl\\_cholesterol & hdl\\_cholesterol & alt & ast & heart\\_rate & creatinine & troponin & c\\_reactive\\_protein & disease\\\\\n",
       " <dbl> & <dbl> & <dbl> & <dbl> & <dbl> & <dbl> & <dbl> & <dbl> & <dbl> & <dbl> & ⋯ & <dbl> & <dbl> & <dbl> & <dbl> & <dbl> & <dbl> & <dbl> & <dbl> & <dbl> & <fct>\\\\\n",
       "\\hline\n",
       "\t 0.001827491 & 0.03369271 & 0.11475525 & 0.9979266 & 0.56260425 & 0.86649852 & 0.57804177 & 0.91461549 & 0.02686409 & 0.03864091 & ⋯ & 0.6532299 & 0.1861045 & 0.4303978 & 0.01667792 & 0.8853520 & 0.6527334 & 0.78823514 & 0.05478811 & 0.03131344 & Thalasse\\\\\n",
       "\t 0.436679025 & 0.97265269 & 0.08499819 & 0.1809086 & 0.67573568 & 0.56388877 & 0.79838214 & 0.67036126 & 0.37609238 & 0.18489008 & ⋯ & 0.8335397 & 0.1530008 & 0.4585328 & 0.40184452 & 0.6359693 & 0.5744248 & 0.04702496 & 0.60798545 & 0.59412308 & Diabetes\\\\\n",
       "\t 0.545697158 & 0.32481486 & 0.58446699 & 0.4757480 & 0.55859609 & 0.66100693 & 0.93405588 & 0.38178237 & 0.50034229 & 0.53182931 & ⋯ & 0.6789008 & 0.2204789 & 0.8171514 & 0.69098100 & 0.1016329 & 0.8557403 & 0.55112419 & 0.41329445 & 0.07090907 & Heart Di\\\\\n",
       "\t 0.172994018 & 0.05035101 & 0.73599966 & 0.7820224 & 0.06943548 & 0.08521937 & 0.03290692 & 0.46061943 & 0.78544795 & 0.49149522 & ⋯ & 0.3815002 & 0.4593956 & 0.4201545 & 0.79853707 & 0.3992360 & 0.3245997 & 0.49950360 & 0.43666181 & 0.24276586 & Diabetes\\\\\n",
       "\t 0.758534051 & 0.73996775 & 0.59786776 & 0.7726835 & 0.87571974 & 0.86026493 & 0.48618863 & 0.48668607 & 0.62104804 & 0.19175598 & ⋯ & 0.9933815 & 0.2723384 & 0.6635788 & 0.26522715 & 0.9188472 & 0.8049102 & 0.57111909 & 0.18836767 & 0.75084752 & Heart Di\\\\\n",
       "\t 0.321872226 & 0.55464909 & 0.19565226 & 0.4272160 & 0.80775117 & 0.37696424 & 0.51952589 & 0.02808989 & 0.38253820 & 0.56820531 & ⋯ & 0.7113771 & 0.8878635 & 0.3703437 & 0.60706574 & 0.9364447 & 0.1603547 & 0.10899414 & 0.59907098 & 0.56053500 & Heart Di\\\\\n",
       "\\end{tabular}\n"
      ],
      "text/markdown": [
       "\n",
       "A tibble: 6 × 25\n",
       "\n",
       "| glucose &lt;dbl&gt; | cholesterol &lt;dbl&gt; | hemoglobin &lt;dbl&gt; | platelets &lt;dbl&gt; | white_blood_cells &lt;dbl&gt; | red_blood_cells &lt;dbl&gt; | hematocrit &lt;dbl&gt; | mean_corpuscular_volume &lt;dbl&gt; | mean_corpuscular_hemoglobin &lt;dbl&gt; | mean_corpuscular_hemoglobin_concentration &lt;dbl&gt; | ⋯ ⋯ | hb_a1c &lt;dbl&gt; | ldl_cholesterol &lt;dbl&gt; | hdl_cholesterol &lt;dbl&gt; | alt &lt;dbl&gt; | ast &lt;dbl&gt; | heart_rate &lt;dbl&gt; | creatinine &lt;dbl&gt; | troponin &lt;dbl&gt; | c_reactive_protein &lt;dbl&gt; | disease &lt;fct&gt; |\n",
       "|---|---|---|---|---|---|---|---|---|---|---|---|---|---|---|---|---|---|---|---|---|\n",
       "| 0.001827491 | 0.03369271 | 0.11475525 | 0.9979266 | 0.56260425 | 0.86649852 | 0.57804177 | 0.91461549 | 0.02686409 | 0.03864091 | ⋯ | 0.6532299 | 0.1861045 | 0.4303978 | 0.01667792 | 0.8853520 | 0.6527334 | 0.78823514 | 0.05478811 | 0.03131344 | Thalasse |\n",
       "| 0.436679025 | 0.97265269 | 0.08499819 | 0.1809086 | 0.67573568 | 0.56388877 | 0.79838214 | 0.67036126 | 0.37609238 | 0.18489008 | ⋯ | 0.8335397 | 0.1530008 | 0.4585328 | 0.40184452 | 0.6359693 | 0.5744248 | 0.04702496 | 0.60798545 | 0.59412308 | Diabetes |\n",
       "| 0.545697158 | 0.32481486 | 0.58446699 | 0.4757480 | 0.55859609 | 0.66100693 | 0.93405588 | 0.38178237 | 0.50034229 | 0.53182931 | ⋯ | 0.6789008 | 0.2204789 | 0.8171514 | 0.69098100 | 0.1016329 | 0.8557403 | 0.55112419 | 0.41329445 | 0.07090907 | Heart Di |\n",
       "| 0.172994018 | 0.05035101 | 0.73599966 | 0.7820224 | 0.06943548 | 0.08521937 | 0.03290692 | 0.46061943 | 0.78544795 | 0.49149522 | ⋯ | 0.3815002 | 0.4593956 | 0.4201545 | 0.79853707 | 0.3992360 | 0.3245997 | 0.49950360 | 0.43666181 | 0.24276586 | Diabetes |\n",
       "| 0.758534051 | 0.73996775 | 0.59786776 | 0.7726835 | 0.87571974 | 0.86026493 | 0.48618863 | 0.48668607 | 0.62104804 | 0.19175598 | ⋯ | 0.9933815 | 0.2723384 | 0.6635788 | 0.26522715 | 0.9188472 | 0.8049102 | 0.57111909 | 0.18836767 | 0.75084752 | Heart Di |\n",
       "| 0.321872226 | 0.55464909 | 0.19565226 | 0.4272160 | 0.80775117 | 0.37696424 | 0.51952589 | 0.02808989 | 0.38253820 | 0.56820531 | ⋯ | 0.7113771 | 0.8878635 | 0.3703437 | 0.60706574 | 0.9364447 | 0.1603547 | 0.10899414 | 0.59907098 | 0.56053500 | Heart Di |\n",
       "\n"
      ],
      "text/plain": [
       "  glucose     cholesterol hemoglobin platelets white_blood_cells\n",
       "1 0.001827491 0.03369271  0.11475525 0.9979266 0.56260425       \n",
       "2 0.436679025 0.97265269  0.08499819 0.1809086 0.67573568       \n",
       "3 0.545697158 0.32481486  0.58446699 0.4757480 0.55859609       \n",
       "4 0.172994018 0.05035101  0.73599966 0.7820224 0.06943548       \n",
       "5 0.758534051 0.73996775  0.59786776 0.7726835 0.87571974       \n",
       "6 0.321872226 0.55464909  0.19565226 0.4272160 0.80775117       \n",
       "  red_blood_cells hematocrit mean_corpuscular_volume\n",
       "1 0.86649852      0.57804177 0.91461549             \n",
       "2 0.56388877      0.79838214 0.67036126             \n",
       "3 0.66100693      0.93405588 0.38178237             \n",
       "4 0.08521937      0.03290692 0.46061943             \n",
       "5 0.86026493      0.48618863 0.48668607             \n",
       "6 0.37696424      0.51952589 0.02808989             \n",
       "  mean_corpuscular_hemoglobin mean_corpuscular_hemoglobin_concentration ⋯\n",
       "1 0.02686409                  0.03864091                                ⋯\n",
       "2 0.37609238                  0.18489008                                ⋯\n",
       "3 0.50034229                  0.53182931                                ⋯\n",
       "4 0.78544795                  0.49149522                                ⋯\n",
       "5 0.62104804                  0.19175598                                ⋯\n",
       "6 0.38253820                  0.56820531                                ⋯\n",
       "  hb_a1c    ldl_cholesterol hdl_cholesterol alt        ast       heart_rate\n",
       "1 0.6532299 0.1861045       0.4303978       0.01667792 0.8853520 0.6527334 \n",
       "2 0.8335397 0.1530008       0.4585328       0.40184452 0.6359693 0.5744248 \n",
       "3 0.6789008 0.2204789       0.8171514       0.69098100 0.1016329 0.8557403 \n",
       "4 0.3815002 0.4593956       0.4201545       0.79853707 0.3992360 0.3245997 \n",
       "5 0.9933815 0.2723384       0.6635788       0.26522715 0.9188472 0.8049102 \n",
       "6 0.7113771 0.8878635       0.3703437       0.60706574 0.9364447 0.1603547 \n",
       "  creatinine troponin   c_reactive_protein disease \n",
       "1 0.78823514 0.05478811 0.03131344         Thalasse\n",
       "2 0.04702496 0.60798545 0.59412308         Diabetes\n",
       "3 0.55112419 0.41329445 0.07090907         Heart Di\n",
       "4 0.49950360 0.43666181 0.24276586         Diabetes\n",
       "5 0.57111909 0.18836767 0.75084752         Heart Di\n",
       "6 0.10899414 0.59907098 0.56053500         Heart Di"
      ]
     },
     "metadata": {},
     "output_type": "display_data"
    }
   ],
   "source": [
    "blood_samples <- blood_samples |>\n",
    "                clean_names() |>\n",
    "                mutate(disease = as_factor(disease))\n",
    "\n",
    "head(blood_samples)"
   ]
  },
  {
   "cell_type": "markdown",
   "id": "dc0e4086-736d-479d-8989-119c24bc91cf",
   "metadata": {},
   "source": [
    "### Summarizing the training data"
   ]
  },
  {
   "cell_type": "markdown",
   "id": "ba0d3b50-42e9-4f90-82fa-6e354a41fc17",
   "metadata": {},
   "source": [
    "Here we will use the distinct function to see how many unique disease classes are in the dataset."
   ]
  },
  {
   "cell_type": "code",
   "execution_count": 4,
   "id": "7db9ba2a-eed4-4a5d-add3-47f9b6c2123e",
   "metadata": {},
   "outputs": [
    {
     "data": {
      "text/html": [
       "<table class=\"dataframe\">\n",
       "<caption>A tibble: 6 × 1</caption>\n",
       "<thead>\n",
       "\t<tr><th scope=col>disease</th></tr>\n",
       "\t<tr><th scope=col>&lt;fct&gt;</th></tr>\n",
       "</thead>\n",
       "<tbody>\n",
       "\t<tr><td>Thalasse</td></tr>\n",
       "\t<tr><td>Diabetes</td></tr>\n",
       "\t<tr><td>Heart Di</td></tr>\n",
       "\t<tr><td>Anemia  </td></tr>\n",
       "\t<tr><td>Thromboc</td></tr>\n",
       "\t<tr><td>Healthy </td></tr>\n",
       "</tbody>\n",
       "</table>\n"
      ],
      "text/latex": [
       "A tibble: 6 × 1\n",
       "\\begin{tabular}{l}\n",
       " disease\\\\\n",
       " <fct>\\\\\n",
       "\\hline\n",
       "\t Thalasse\\\\\n",
       "\t Diabetes\\\\\n",
       "\t Heart Di\\\\\n",
       "\t Anemia  \\\\\n",
       "\t Thromboc\\\\\n",
       "\t Healthy \\\\\n",
       "\\end{tabular}\n"
      ],
      "text/markdown": [
       "\n",
       "A tibble: 6 × 1\n",
       "\n",
       "| disease &lt;fct&gt; |\n",
       "|---|\n",
       "| Thalasse |\n",
       "| Diabetes |\n",
       "| Heart Di |\n",
       "| Anemia   |\n",
       "| Thromboc |\n",
       "| Healthy  |\n",
       "\n"
      ],
      "text/plain": [
       "  disease \n",
       "1 Thalasse\n",
       "2 Diabetes\n",
       "3 Heart Di\n",
       "4 Anemia  \n",
       "5 Thromboc\n",
       "6 Healthy "
      ]
     },
     "metadata": {},
     "output_type": "display_data"
    }
   ],
   "source": [
    "unique_diseases <- select(blood_samples, disease) |>\n",
    "            distinct()\n",
    "unique_diseases"
   ]
  },
  {
   "cell_type": "markdown",
   "id": "4b9cbc23-9cfd-4733-8b70-5df42e28b4db",
   "metadata": {},
   "source": [
    "Spliting the data into a training subset and a testing subset. 75% of the total data goes to training, 25% to testing."
   ]
  },
  {
   "cell_type": "code",
   "execution_count": 5,
   "id": "24ee6062-44ff-4c74-8d5b-0e24e8323eef",
   "metadata": {},
   "outputs": [],
   "source": [
    "set.seed(1)\n",
    "\n",
    "blood_samples_split <- initial_split(blood_samples, prop = 0.75, strata = disease)\n",
    "training_blood_samples <- training(blood_samples_split)\n",
    "testing_blood_samples <- testing(blood_samples_split)"
   ]
  },
  {
   "cell_type": "markdown",
   "id": "3d862434-de34-46a9-8aef-4b4ef8f63bde",
   "metadata": {},
   "source": [
    "How many observations are there for each disease."
   ]
  },
  {
   "cell_type": "code",
   "execution_count": 6,
   "id": "523aec08-beb8-4be0-b791-ee9e12e855c0",
   "metadata": {},
   "outputs": [
    {
     "data": {
      "text/html": [
       "<table class=\"dataframe\">\n",
       "<caption>A tibble: 6 × 2</caption>\n",
       "<thead>\n",
       "\t<tr><th scope=col>disease</th><th scope=col>count</th></tr>\n",
       "\t<tr><th scope=col>&lt;fct&gt;</th><th scope=col>&lt;int&gt;</th></tr>\n",
       "</thead>\n",
       "<tbody>\n",
       "\t<tr><td>Thalasse</td><td> 35</td></tr>\n",
       "\t<tr><td>Diabetes</td><td>216</td></tr>\n",
       "\t<tr><td>Heart Di</td><td> 32</td></tr>\n",
       "\t<tr><td>Anemia  </td><td> 65</td></tr>\n",
       "\t<tr><td>Thromboc</td><td> 10</td></tr>\n",
       "\t<tr><td>Healthy </td><td>  5</td></tr>\n",
       "</tbody>\n",
       "</table>\n"
      ],
      "text/latex": [
       "A tibble: 6 × 2\n",
       "\\begin{tabular}{ll}\n",
       " disease & count\\\\\n",
       " <fct> & <int>\\\\\n",
       "\\hline\n",
       "\t Thalasse &  35\\\\\n",
       "\t Diabetes & 216\\\\\n",
       "\t Heart Di &  32\\\\\n",
       "\t Anemia   &  65\\\\\n",
       "\t Thromboc &  10\\\\\n",
       "\t Healthy  &   5\\\\\n",
       "\\end{tabular}\n"
      ],
      "text/markdown": [
       "\n",
       "A tibble: 6 × 2\n",
       "\n",
       "| disease &lt;fct&gt; | count &lt;int&gt; |\n",
       "|---|---|\n",
       "| Thalasse |  35 |\n",
       "| Diabetes | 216 |\n",
       "| Heart Di |  32 |\n",
       "| Anemia   |  65 |\n",
       "| Thromboc |  10 |\n",
       "| Healthy  |   5 |\n",
       "\n"
      ],
      "text/plain": [
       "  disease  count\n",
       "1 Thalasse  35  \n",
       "2 Diabetes 216  \n",
       "3 Heart Di  32  \n",
       "4 Anemia    65  \n",
       "5 Thromboc  10  \n",
       "6 Healthy    5  "
      ]
     },
     "metadata": {},
     "output_type": "display_data"
    }
   ],
   "source": [
    "obersvation_count <- training_blood_samples |>\n",
    "            group_by(disease) |>\n",
    "            summarize(count = n())\n",
    "obersvation_count"
   ]
  },
  {
   "cell_type": "code",
   "execution_count": 7,
   "id": "2ef5a3be-f0d6-413d-bdca-8cb9d5229bc8",
   "metadata": {},
   "outputs": [],
   "source": [
    "ups_recipe <- recipe(disease ~ ., data = training_blood_samples) |>\n",
    "    step_upsample(disease, over_ratio = 1, skip = FALSE) |>\n",
    "    prep()\n",
    "\n",
    "upsampled_cancer <- bake(ups_recipe, training_blood_samples)\n",
    "\n",
    "\n",
    "training_blood_samples <- upsampled_cancer |>\n",
    "            group_by(disease) |>\n",
    "            summarize(count = n())\n"
   ]
  },
  {
   "cell_type": "markdown",
   "id": "74df2006-e48c-4066-8603-eb5d01ebf790",
   "metadata": {},
   "source": [
    "### Visualizing the training data"
   ]
  },
  {
   "cell_type": "markdown",
   "id": "044db6e7-a285-4039-8d34-13a1cd9fca7c",
   "metadata": {},
   "source": [
    "This is a series of histograms comparing the number of a healthy red blood cells a person has.\n",
    "Anemia is condition where a person doesn't have enough healthy red blood cells. Looking at the normalized graph there is a clear trend that people with Anemia have less healthy red blood cells."
   ]
  },
  {
   "cell_type": "code",
   "execution_count": 8,
   "id": "027ad939-ef3a-4d42-9778-9be3fba69287",
   "metadata": {},
   "outputs": [
    {
     "name": "stderr",
     "output_type": "stream",
     "text": [
      "ERROR while rich displaying an object: \u001b[1m\u001b[33mError\u001b[39m in `geom_histogram()`:\u001b[22m\n",
      "\u001b[1m\u001b[22m\u001b[33m!\u001b[39m Problem while computing aesthetics.\n",
      "\u001b[36mℹ\u001b[39m Error occurred in the 1st layer.\n",
      "\u001b[1mCaused by error:\u001b[22m\n",
      "\u001b[33m!\u001b[39m object 'red_blood_cells' not found\n",
      "\n",
      "Traceback:\n",
      "1. tryCatch(withCallingHandlers({\n",
      " .     if (!mime %in% names(repr::mime2repr)) \n",
      " .         stop(\"No repr_* for mimetype \", mime, \" in repr::mime2repr\")\n",
      " .     rpr <- repr::mime2repr[[mime]](obj)\n",
      " .     if (is.null(rpr)) \n",
      " .         return(NULL)\n",
      " .     prepare_content(is.raw(rpr), rpr)\n",
      " . }, error = error_handler), error = outer_handler)\n",
      "2. tryCatchList(expr, classes, parentenv, handlers)\n",
      "3. tryCatchOne(expr, names, parentenv, handlers[[1L]])\n",
      "4. doTryCatch(return(expr), name, parentenv, handler)\n",
      "5. withCallingHandlers({\n",
      " .     if (!mime %in% names(repr::mime2repr)) \n",
      " .         stop(\"No repr_* for mimetype \", mime, \" in repr::mime2repr\")\n",
      " .     rpr <- repr::mime2repr[[mime]](obj)\n",
      " .     if (is.null(rpr)) \n",
      " .         return(NULL)\n",
      " .     prepare_content(is.raw(rpr), rpr)\n",
      " . }, error = error_handler)\n",
      "6. repr::mime2repr[[mime]](obj)\n",
      "7. repr_text.default(obj)\n",
      "8. paste(capture.output(print(obj)), collapse = \"\\n\")\n",
      "9. capture.output(print(obj))\n",
      "10. withVisible(...elt(i))\n",
      "11. print(obj)\n",
      "12. print.ggplot(obj)\n",
      "13. ggplot_build(x)\n",
      "14. ggplot_build.ggplot(x)\n",
      "15. by_layer(function(l, d) l$compute_aesthetics(d, plot), layers, \n",
      "  .     data, \"computing aesthetics\")\n",
      "16. try_fetch(for (i in seq_along(data)) {\n",
      "  .     out[[i]] <- f(l = layers[[i]], d = data[[i]])\n",
      "  . }, error = function(cnd) {\n",
      "  .     cli::cli_abort(c(\"Problem while {step}.\", i = \"Error occurred in the {ordinal(i)} layer.\"), \n",
      "  .         call = layers[[i]]$constructor, parent = cnd)\n",
      "  . })\n",
      "17. tryCatch(withCallingHandlers(expr, condition = function(cnd) {\n",
      "  .     {\n",
      "  .         .__handler_frame__. <- TRUE\n",
      "  .         .__setup_frame__. <- frame\n",
      "  .         if (inherits(cnd, \"message\")) {\n",
      "  .             except <- c(\"warning\", \"error\")\n",
      "  .         }\n",
      "  .         else if (inherits(cnd, \"warning\")) {\n",
      "  .             except <- \"error\"\n",
      "  .         }\n",
      "  .         else {\n",
      "  .             except <- \"\"\n",
      "  .         }\n",
      "  .     }\n",
      "  .     while (!is_null(cnd)) {\n",
      "  .         if (inherits(cnd, \"error\")) {\n",
      "  .             out <- handlers[[1L]](cnd)\n",
      "  .             if (!inherits(out, \"rlang_zap\")) \n",
      "  .                 throw(out)\n",
      "  .         }\n",
      "  .         inherit <- .subset2(.subset2(cnd, \"rlang\"), \"inherit\")\n",
      "  .         if (is_false(inherit)) {\n",
      "  .             return()\n",
      "  .         }\n",
      "  .         cnd <- .subset2(cnd, \"parent\")\n",
      "  .     }\n",
      "  . }), stackOverflowError = handlers[[1L]])\n",
      "18. tryCatchList(expr, classes, parentenv, handlers)\n",
      "19. tryCatchOne(expr, names, parentenv, handlers[[1L]])\n",
      "20. doTryCatch(return(expr), name, parentenv, handler)\n",
      "21. withCallingHandlers(expr, condition = function(cnd) {\n",
      "  .     {\n",
      "  .         .__handler_frame__. <- TRUE\n",
      "  .         .__setup_frame__. <- frame\n",
      "  .         if (inherits(cnd, \"message\")) {\n",
      "  .             except <- c(\"warning\", \"error\")\n",
      "  .         }\n",
      "  .         else if (inherits(cnd, \"warning\")) {\n",
      "  .             except <- \"error\"\n",
      "  .         }\n",
      "  .         else {\n",
      "  .             except <- \"\"\n",
      "  .         }\n",
      "  .     }\n",
      "  .     while (!is_null(cnd)) {\n",
      "  .         if (inherits(cnd, \"error\")) {\n",
      "  .             out <- handlers[[1L]](cnd)\n",
      "  .             if (!inherits(out, \"rlang_zap\")) \n",
      "  .                 throw(out)\n",
      "  .         }\n",
      "  .         inherit <- .subset2(.subset2(cnd, \"rlang\"), \"inherit\")\n",
      "  .         if (is_false(inherit)) {\n",
      "  .             return()\n",
      "  .         }\n",
      "  .         cnd <- .subset2(cnd, \"parent\")\n",
      "  .     }\n",
      "  . })\n",
      "22. f(l = layers[[i]], d = data[[i]])\n",
      "23. l$compute_aesthetics(d, plot)\n",
      "24. compute_aesthetics(..., self = self)\n",
      "25. lapply(aesthetics, eval_tidy, data = data, env = env)\n",
      "26. FUN(X[[i]], ...)\n",
      "27. .handleSimpleError(function (cnd) \n",
      "  . {\n",
      "  .     {\n",
      "  .         .__handler_frame__. <- TRUE\n",
      "  .         .__setup_frame__. <- frame\n",
      "  .         if (inherits(cnd, \"message\")) {\n",
      "  .             except <- c(\"warning\", \"error\")\n",
      "  .         }\n",
      "  .         else if (inherits(cnd, \"warning\")) {\n",
      "  .             except <- \"error\"\n",
      "  .         }\n",
      "  .         else {\n",
      "  .             except <- \"\"\n",
      "  .         }\n",
      "  .     }\n",
      "  .     while (!is_null(cnd)) {\n",
      "  .         if (inherits(cnd, \"error\")) {\n",
      "  .             out <- handlers[[1L]](cnd)\n",
      "  .             if (!inherits(out, \"rlang_zap\")) \n",
      "  .                 throw(out)\n",
      "  .         }\n",
      "  .         inherit <- .subset2(.subset2(cnd, \"rlang\"), \"inherit\")\n",
      "  .         if (is_false(inherit)) {\n",
      "  .             return()\n",
      "  .         }\n",
      "  .         cnd <- .subset2(cnd, \"parent\")\n",
      "  .     }\n",
      "  . }, \"object 'red_blood_cells' not found\", base::quote(NULL))\n",
      "28. h(simpleError(msg, call))\n",
      "29. handlers[[1L]](cnd)\n",
      "30. cli::cli_abort(c(\"Problem while {step}.\", i = \"Error occurred in the {ordinal(i)} layer.\"), \n",
      "  .     call = layers[[i]]$constructor, parent = cnd)\n",
      "31. rlang::abort(message, ..., call = call, use_cli_format = TRUE, \n",
      "  .     .frame = .frame)\n",
      "32. signal_abort(cnd, .file)\n"
     ]
    }
   ],
   "source": [
    "red_blood_histogram <- training_blood_samples |> \n",
    "                        ggplot(aes(x=red_blood_cells, fill = disease)) +\n",
    "                        geom_histogram(bins = 8) +\n",
    "                        facet_grid(rows = vars(disease))\n",
    "red_blood_histogram"
   ]
  },
  {
   "cell_type": "markdown",
   "id": "3916ba17",
   "metadata": {},
   "source": [
    "## Methods"
   ]
  },
  {
   "cell_type": "markdown",
   "id": "d0d37c88",
   "metadata": {},
   "source": [
    "Because the parameters required to predict each disease are not necessarily the same, we will need to identify which parameters dictate the diagnoses of each disease. One way this could be done is by creating histograms to visualize the distribution of each parameter per each disease, and, by comparing these with the parameter histograms of the other diseases, determine if there are patterns for parameters amongst each disease.\n",
    "\n",
    "Then, once we have identified which parameters dictate for each disease, we can build our classification model(s) to identify which disease a person with certain parameters could be diagnosed with."
   ]
  },
  {
   "cell_type": "code",
   "execution_count": 9,
   "id": "9682eb79-8e00-4b76-bfcf-43fb6461d2f3",
   "metadata": {},
   "outputs": [
    {
     "ename": "ERROR",
     "evalue": "\u001b[1m\u001b[33mError\u001b[39m in `purrr::map()`:\u001b[22m\n\u001b[1m\u001b[22m\u001b[36mℹ\u001b[39m In index: 1.\n\u001b[1mCaused by error in `rsplit()`:\u001b[22m\n\u001b[33m!\u001b[39m At least one row should be selected for the analysis set.\n",
     "output_type": "error",
     "traceback": [
      "\u001b[1m\u001b[33mError\u001b[39m in `purrr::map()`:\u001b[22m\n\u001b[1m\u001b[22m\u001b[36mℹ\u001b[39m In index: 1.\n\u001b[1mCaused by error in `rsplit()`:\u001b[22m\n\u001b[33m!\u001b[39m At least one row should be selected for the analysis set.\nTraceback:\n",
      "1. vfold_cv(training_blood_samples, v = 5, strata = disease)",
      "2. vfold_splits(data = data, v = v, strata = strata, breaks = breaks, \n .     pool = pool)",
      "3. purrr::map(indices, make_splits, data = data, class = \"vfold_split\")",
      "4. map_(\"list\", .x, .f, ..., .progress = .progress)",
      "5. with_indexed_errors(i = i, names = names, error_call = .purrr_error_call, \n .     call_with_cleanup(map_impl, environment(), .type, .progress, \n .         n, names, i))",
      "6. withCallingHandlers(expr, error = function(cnd) {\n .     if (i == 0L) {\n .     }\n .     else {\n .         message <- c(i = \"In index: {i}.\")\n .         if (!is.null(names) && !is.na(names[[i]]) && names[[i]] != \n .             \"\") {\n .             name <- names[[i]]\n .             message <- c(message, i = \"With name: {name}.\")\n .         }\n .         else {\n .             name <- NULL\n .         }\n .         cli::cli_abort(message, location = i, name = name, parent = cnd, \n .             call = error_call, class = \"purrr_error_indexed\")\n .     }\n . })",
      "7. call_with_cleanup(map_impl, environment(), .type, .progress, \n .     n, names, i)",
      "8. .f(.x[[i]], ...)",
      "9. make_splits.list(.x[[i]], ...)",
      "10. rsplit(data, x$analysis, x$assessment)",
      "11. rlang::abort(\"At least one row should be selected for the analysis set.\")",
      "12. signal_abort(cnd, .file)",
      "13. signalCondition(cnd)",
      "14. (function (cnd) \n  . {\n  .     if (i == 0L) {\n  .     }\n  .     else {\n  .         message <- c(i = \"In index: {i}.\")\n  .         if (!is.null(names) && !is.na(names[[i]]) && names[[i]] != \n  .             \"\") {\n  .             name <- names[[i]]\n  .             message <- c(message, i = \"With name: {name}.\")\n  .         }\n  .         else {\n  .             name <- NULL\n  .         }\n  .         cli::cli_abort(message, location = i, name = name, parent = cnd, \n  .             call = error_call, class = \"purrr_error_indexed\")\n  .     }\n  . })(structure(list(message = \"At least one row should be selected for the analysis set.\", \n  .     trace = structure(list(call = list(IRkernel::main(), kernel$run(), \n  .         handle_shell(), executor$execute(msg), tryCatch(evaluate(request$content$code, \n  .             envir = .GlobalEnv, output_handler = oh, stop_on_error = 1L), \n  .             interrupt = function(cond) {\n  .                 log_debug(\"Interrupt during execution\")\n  .                 interrupted <<- TRUE\n  .             }, error = .self$handle_error), tryCatchList(expr, \n  .             classes, parentenv, handlers), tryCatchOne(tryCatchList(expr, \n  .             names[-nh], parentenv, handlers[-nh]), names[nh], \n  .             parentenv, handlers[[nh]]), doTryCatch(return(expr), \n  .             name, parentenv, handler), tryCatchList(expr, names[-nh], \n  .             parentenv, handlers[-nh]), tryCatchOne(expr, names, \n  .             parentenv, handlers[[1L]]), doTryCatch(return(expr), \n  .             name, parentenv, handler), evaluate(request$content$code, \n  .             envir = .GlobalEnv, output_handler = oh, stop_on_error = 1L), \n  .         evaluate_call(expr, parsed$src[[i]], envir = envir, enclos = enclos, \n  .             debug = debug, last = i == length(out), use_try = stop_on_error != \n  .                 2L, keep_warning = keep_warning, keep_message = keep_message, \n  .             log_echo = log_echo, log_warning = log_warning, output_handler = output_handler, \n  .             include_timing = include_timing), timing_fn(handle(ev <- withCallingHandlers(withVisible(eval_with_user_handlers(expr, \n  .             envir, enclos, user_handlers)), warning = wHandler, \n  .             error = eHandler, message = mHandler))), handle(ev <- withCallingHandlers(withVisible(eval_with_user_handlers(expr, \n  .             envir, enclos, user_handlers)), warning = wHandler, \n  .             error = eHandler, message = mHandler)), try(f, silent = TRUE), \n  .         tryCatch(expr, error = function(e) {\n  .             call <- conditionCall(e)\n  .             if (!is.null(call)) {\n  .                 if (identical(call[[1L]], quote(doTryCatch))) \n  .                   call <- sys.call(-4L)\n  .                 dcall <- deparse(call, nlines = 1L)\n  .                 prefix <- paste(\"Error in\", dcall, \": \")\n  .                 LONG <- 75L\n  .                 sm <- strsplit(conditionMessage(e), \"\\n\")[[1L]]\n  .                 w <- 14L + nchar(dcall, type = \"w\") + nchar(sm[1L], \n  .                   type = \"w\")\n  .                 if (is.na(w)) \n  .                   w <- 14L + nchar(dcall, type = \"b\") + nchar(sm[1L], \n  .                     type = \"b\")\n  .                 if (w > LONG) \n  .                   prefix <- paste0(prefix, \"\\n  \")\n  .             }\n  .             else prefix <- \"Error : \"\n  .             msg <- paste0(prefix, conditionMessage(e), \"\\n\")\n  .             .Internal(seterrmessage(msg[1L]))\n  .             if (!silent && isTRUE(getOption(\"show.error.messages\"))) {\n  .                 cat(msg, file = outFile)\n  .                 .Internal(printDeferredWarnings())\n  .             }\n  .             invisible(structure(msg, class = \"try-error\", condition = e))\n  .         }), tryCatchList(expr, classes, parentenv, handlers), \n  .         tryCatchOne(expr, names, parentenv, handlers[[1L]]), \n  .         doTryCatch(return(expr), name, parentenv, handler), withCallingHandlers(withVisible(eval_with_user_handlers(expr, \n  .             envir, enclos, user_handlers)), warning = wHandler, \n  .             error = eHandler, message = mHandler), withVisible(eval_with_user_handlers(expr, \n  .             envir, enclos, user_handlers)), eval_with_user_handlers(expr, \n  .             envir, enclos, user_handlers), eval(expr, envir, \n  .             enclos), eval(expr, envir, enclos), vfold_cv(training_blood_samples, \n  .             v = 5, strata = disease), vfold_splits(data = data, \n  .             v = v, strata = strata, breaks = breaks, pool = pool), \n  .         purrr::map(indices, make_splits, data = data, class = \"vfold_split\"), \n  .         map_(\"list\", .x, .f, ..., .progress = .progress), with_indexed_errors(i = i, \n  .             names = names, error_call = .purrr_error_call, call_with_cleanup(map_impl, \n  .                 environment(), .type, .progress, n, names, i)), \n  .         withCallingHandlers(expr, error = function(cnd) {\n  .             if (i == 0L) {\n  .             }\n  .             else {\n  .                 message <- c(i = \"In index: {i}.\")\n  .                 if (!is.null(names) && !is.na(names[[i]]) && \n  .                   names[[i]] != \"\") {\n  .                   name <- names[[i]]\n  .                   message <- c(message, i = \"With name: {name}.\")\n  .                 }\n  .                 else {\n  .                   name <- NULL\n  .                 }\n  .                 cli::cli_abort(message, location = i, name = name, \n  .                   parent = cnd, call = error_call, class = \"purrr_error_indexed\")\n  .             }\n  .         }), call_with_cleanup(map_impl, environment(), .type, \n  .             .progress, n, names, i), .f(.x[[i]], ...), make_splits.list(.x[[i]], \n  .             ...), rsplit(data, x$analysis, x$assessment), rlang::abort(\"At least one row should be selected for the analysis set.\")), \n  .         parent = c(0L, 1L, 2L, 3L, 4L, 5L, 6L, 7L, 6L, 9L, 10L, \n  .         4L, 12L, 13L, 13L, 15L, 16L, 17L, 18L, 19L, 13L, 13L, \n  .         13L, 23L, 24L, 0L, 26L, 27L, 28L, 29L, 30L, 29L, 29L, \n  .         29L, 34L, 35L), visible = c(TRUE, TRUE, TRUE, TRUE, TRUE, \n  .         TRUE, TRUE, TRUE, TRUE, TRUE, TRUE, TRUE, TRUE, TRUE, \n  .         TRUE, TRUE, TRUE, TRUE, TRUE, TRUE, TRUE, TRUE, TRUE, \n  .         TRUE, TRUE, TRUE, TRUE, TRUE, TRUE, TRUE, TRUE, TRUE, \n  .         TRUE, TRUE, TRUE, FALSE), namespace = c(\"IRkernel\", NA, \n  .         \"IRkernel\", NA, \"base\", \"base\", \"base\", \"base\", \"base\", \n  .         \"base\", \"base\", \"evaluate\", \"evaluate\", \"evaluate\", \"evaluate\", \n  .         \"base\", \"base\", \"base\", \"base\", \"base\", \"base\", \"base\", \n  .         \"evaluate\", \"base\", \"base\", \"rsample\", \"rsample\", \"purrr\", \n  .         \"purrr\", \"purrr\", \"base\", \"purrr\", \"rsample\", \"rsample\", \n  .         \"rsample\", \"rlang\"), scope = c(\"::\", NA, \"local\", NA, \n  .         \"::\", \"local\", \"local\", \"local\", \"local\", \"local\", \"local\", \n  .         \"::\", \":::\", \"local\", \"local\", \"::\", \"::\", \"local\", \"local\", \n  .         \"local\", \"::\", \"::\", \":::\", \"::\", \"::\", \"::\", \":::\", \n  .         \"::\", \":::\", \":::\", \"::\", \":::\", \"local\", \":::\", \":::\", \n  .         \"::\"), error_frame = c(FALSE, FALSE, FALSE, FALSE, FALSE, \n  .         FALSE, FALSE, FALSE, FALSE, FALSE, FALSE, FALSE, FALSE, \n  .         FALSE, FALSE, FALSE, FALSE, FALSE, FALSE, FALSE, FALSE, \n  .         FALSE, FALSE, FALSE, FALSE, FALSE, FALSE, FALSE, FALSE, \n  .         FALSE, FALSE, FALSE, FALSE, FALSE, TRUE, FALSE)), row.names = c(NA, \n  .     -36L), version = 2L, class = c(\"rlang_trace\", \"rlib_trace\", \n  .     \"tbl\", \"data.frame\")), parent = NULL, rlang = list(inherit = TRUE), \n  .     call = rsplit(data, x$analysis, x$assessment)), class = c(\"rlang_error\", \n  . \"error\", \"condition\")))",
      "15. cli::cli_abort(message, location = i, name = name, parent = cnd, \n  .     call = error_call, class = \"purrr_error_indexed\")",
      "16. rlang::abort(message, ..., call = call, use_cli_format = TRUE, \n  .     .frame = .frame)",
      "17. signal_abort(cnd, .file)"
     ]
    }
   ],
   "source": [
    "disease_recipe <- recipe(disease ~ ., data = training_blood_samples)\n",
    "\n",
    "disease_spec <- nearest_neighbor(weight_func = \"rectangular\", neighbors = tune()) |>\n",
    "    set_engine(\"kknn\") |>\n",
    "    set_mode(\"classification\")\n",
    "\n",
    "\n",
    "k_vals <- tibble(neighbors = seq(from = 1, to = 100, by = 10))\n",
    "\n",
    "disease_vfold <- vfold_cv(training_blood_samples, v = 5, strata = disease)\n",
    "\n",
    "\n",
    "tune_results <- workflow() |>\n",
    "  add_recipe(disease_recipe) |>\n",
    "  add_model(disease_spec) |>\n",
    "  tune_grid(resamples = disease_vfold, grid = k_vals) |>\n",
    "  collect_metrics()\n",
    "\n",
    "tune_results"
   ]
  },
  {
   "cell_type": "code",
   "execution_count": null,
   "id": "dd6eb58a-05f8-420d-884e-523238c9ad65",
   "metadata": {},
   "outputs": [],
   "source": [
    "accuracies <- tune_results |>\n",
    "  filter(.metric == \"accuracy\")\n",
    "\n",
    "accuracies\n",
    "\n",
    "accuracy_vs_k <- ggplot(accuracies, aes(x = neighbors, y = mean)) +\n",
    "  geom_point() +\n",
    "  geom_line() +\n",
    "  labs(x = \"Neighbors\", y = \"Accuracy Estimate\") +\n",
    "  theme(text = element_text(size = 12))\n",
    "\n",
    "accuracy_vs_k"
   ]
  },
  {
   "cell_type": "markdown",
   "id": "daebab1b",
   "metadata": {},
   "source": [
    "## Expected Outcomes"
   ]
  },
  {
   "cell_type": "markdown",
   "id": "92cf2fb5-5142-478b-85b2-28f4beb1df87",
   "metadata": {},
   "source": [
    "Through our data analysis, we anticipiate there will be relationships between health parameters and specific diseases. We hypothesize that there will be patterns where elevated or reduced levels of a particular health parameter will predict the presence of a disease. Although for the purposes of this course, our model will be fairly naive, to create an accurate model that can achieve such predictions would have an impact on healthcare. Such predictions can allow these at-risk individuals to seek the support they need. Therefore, it also raises a number of potential future questions:\n",
    "- Are there additional health parameters that should be measured for training the model?\n",
    "- Are there ethical concerns regarding the use of using classification models to predict health risks?\n",
    "- How would an individual input such information into the model to receive a diagnosis?\n",
    "- We have only learned about k-nearest neighbour classifiers in this class, is there a different classifier that would perform better?"
   ]
  },
  {
   "cell_type": "code",
   "execution_count": null,
   "id": "1d78e9a6",
   "metadata": {},
   "outputs": [],
   "source": []
  },
  {
   "cell_type": "code",
   "execution_count": null,
   "id": "e8d4d25b-e5ed-4390-a04b-7037e67d4426",
   "metadata": {},
   "outputs": [],
   "source": []
  },
  {
   "cell_type": "code",
   "execution_count": null,
   "id": "3aec6a8b-4a75-4c89-bd10-c5a8d005c9ed",
   "metadata": {},
   "outputs": [],
   "source": []
  },
  {
   "cell_type": "code",
   "execution_count": null,
   "id": "2bdb32a8-06c5-4d7c-b68a-e199660ee507",
   "metadata": {},
   "outputs": [],
   "source": []
  }
 ],
 "metadata": {
  "kernelspec": {
   "display_name": "R",
   "language": "R",
   "name": "ir"
  },
  "language_info": {
   "codemirror_mode": "r",
   "file_extension": ".r",
   "mimetype": "text/x-r-source",
   "name": "R",
   "pygments_lexer": "r",
   "version": "4.3.1"
  }
 },
 "nbformat": 4,
 "nbformat_minor": 5
}
